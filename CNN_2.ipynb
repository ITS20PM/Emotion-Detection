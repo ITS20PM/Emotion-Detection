{
 "cells": [
  {
   "cell_type": "markdown",
   "id": "1bd13327",
   "metadata": {},
   "source": [
    "## Import library and create train and test dataset"
   ]
  },
  {
   "cell_type": "code",
   "execution_count": 8,
   "id": "4a6ba8f3",
   "metadata": {},
   "outputs": [],
   "source": [
    "import tensorflow as tf\n",
    "\n",
    "from tensorflow.keras import datasets, layers, models, utils\n",
    "from matplotlib import image\n",
    "import matplotlib.pyplot as plt\n",
    "import numpy as np\n",
    "import os\n"
   ]
  },
  {
   "cell_type": "markdown",
   "id": "71ba2bd4",
   "metadata": {},
   "source": [
    "## Initialize data and the path of the data"
   ]
  },
  {
   "cell_type": "code",
   "execution_count": 9,
   "id": "2839692c",
   "metadata": {},
   "outputs": [
    {
     "data": {
      "text/plain": [
       "['angry', 'disgust', 'fear', 'happy', 'neutral', 'sad', 'surprise']"
      ]
     },
     "execution_count": 9,
     "metadata": {},
     "output_type": "execute_result"
    }
   ],
   "source": [
    "test_dir = 'archive/test'\n",
    "train_dir = 'archive/train'\n",
    "emotions = os.listdir(train_dir)\n",
    "\n",
    "train_data = []\n",
    "test_data = []\n",
    "train_pred = []\n",
    "test_pred = []\n",
    "\n",
    "emotions"
   ]
  },
  {
   "cell_type": "markdown",
   "id": "9a899a2e",
   "metadata": {},
   "source": [
    "## Analyze frequency of each emotion"
   ]
  },
  {
   "cell_type": "code",
   "execution_count": 10,
   "id": "1e92e6e3",
   "metadata": {},
   "outputs": [
    {
     "data": {
      "text/plain": [
       "dict_keys(['angry', 'disgust', 'fear', 'happy', 'neutral', 'sad', 'surprise'])"
      ]
     },
     "execution_count": 10,
     "metadata": {},
     "output_type": "execute_result"
    }
   ],
   "source": [
    "emotion_freq_train = {}\n",
    "emotion_freq_test = {}\n",
    "\n",
    "for emotion in emotions:\n",
    "    img_list1 = os.listdir(train_dir+'/'+emotion)\n",
    "    emotion_freq_train[emotion] = len(img_list1)\n",
    "    \n",
    "    img_list2 = os.listdir(test_dir+'/'+emotion)\n",
    "    emotion_freq_test[emotion] = len(img_list2)\n",
    "    \n",
    "    \n",
    "\n",
    "emotion_freq_train.keys()"
   ]
  },
  {
   "cell_type": "markdown",
   "id": "74a41e8f",
   "metadata": {},
   "source": [
    "## Display frequency"
   ]
  },
  {
   "cell_type": "code",
   "execution_count": 11,
   "id": "7f6745b7",
   "metadata": {},
   "outputs": [
    {
     "data": {
      "image/png": "[encoded data removed]",
      "text/plain": [
       "<Figure size 432x288 with 1 Axes>"
      ]
     },
     "metadata": {
      "needs_background": "light"
     },
     "output_type": "display_data"
    }
   ],
   "source": [
    "color = ['r', 'orange', 'y', 'g', 'c', 'b', 'm']\n",
    "plt.title('Frequency of each emotion from the training dataset')\n",
    "plt.bar(list(emotion_freq_train.keys()), emotion_freq_train.values(), color=color)\n",
    "plt.show()"
   ]
  },
  {
   "cell_type": "code",
   "execution_count": 12,
   "id": "7a816442",
   "metadata": {},
   "outputs": [
    {
     "data": {
      "image/png": "[encoded data removed]",
      "text/plain": [
       "<Figure size 432x288 with 1 Axes>"
      ]
     },
     "metadata": {
      "needs_background": "light"
     },
     "output_type": "display_data"
    }
   ],
   "source": [
    "plt.title('Frequency of each emotion from the testing dataset')\n",
    "plt.bar(list(emotion_freq_test.keys()), emotion_freq_test.values(), color=color)\n",
    "plt.show()"
   ]
  },
  {
   "cell_type": "markdown",
   "id": "0d60ece0",
   "metadata": {},
   "source": [
    "## Retrieve data from the directory"
   ]
  },
  {
   "cell_type": "code",
   "execution_count": 13,
   "id": "c4c94102",
   "metadata": {},
   "outputs": [],
   "source": [
    "# Label each emotion as a number\n",
    "emotion_legend = {}\n",
    "for i in range(7):\n",
    "    emotion_legend[emotions[i]] = i\n",
    "\n",
    "# Generate the training and testing data sets \n",
    "for emotion in emotions:\n",
    "    img_list = os.listdir(train_dir+'/'+emotion)\n",
    "    test_img_list = os.listdir(test_dir+'/'+emotion)\n",
    "    # Create train_dataset and train_pred\n",
    "    for img in img_list:\n",
    "        img = image.imread(train_dir+'/'+emotion+'/'+img)\n",
    "        train_data.append(img)\n",
    "        train_pred.append(emotion_legend[emotion])\n",
    "    # Create test_dataset and test_pred\n",
    "    for img in test_img_list:\n",
    "        img = image.imread(test_dir+'/'+emotion+'/'+img)\n",
    "        test_data.append(img)\n",
    "        test_pred.append(emotion_legend[emotion])\n"
   ]
  },
  {
   "cell_type": "markdown",
   "id": "d15664dd",
   "metadata": {},
   "source": [
    "## Normalize the dataset"
   ]
  },
  {
   "cell_type": "code",
   "execution_count": 14,
   "id": "3a43960f",
   "metadata": {},
   "outputs": [],
   "source": [
    "# Convert the training and testing sets into numpy arrays\n",
    "train_data = np.array(train_data)\n",
    "test_data = np.array(test_data)\n",
    "train_pred = np.array(train_pred)\n",
    "test_pred = np.array(test_pred)\n",
    "\n",
    "# Normalize the images in the dataset\n",
    "train_data, test_data = train_data / 255.0, test_data / 255.0"
   ]
  },
  {
   "cell_type": "markdown",
   "id": "47ec03cb",
   "metadata": {},
   "source": [
    "## Print the shape of the dataset"
   ]
  },
  {
   "cell_type": "code",
   "execution_count": 15,
   "id": "5dec0189",
   "metadata": {},
   "outputs": [
    {
     "name": "stdout",
     "output_type": "stream",
     "text": [
      "(28709, 48, 48)\n",
      "(7178, 48, 48)\n",
      "(28709,)\n",
      "(7178,)\n"
     ]
    }
   ],
   "source": [
    "#Print the shapes of the training and testing sets\n",
    "print(train_data.shape)\n",
    "print(test_data.shape)\n",
    "print(train_pred.shape)\n",
    "print(test_pred.shape)"
   ]
  },
  {
   "cell_type": "markdown",
   "id": "5d77a369",
   "metadata": {},
   "source": [
    "## References:\n",
    "\n",
    "We used the following link to retrieve the dataset for our data mining project: https://www.kaggle.com/datasets/msambare/fer2013?resource=download\n",
    "\n",
    "We used the given link to understand and apply the proper function to convert .jpg image files into a numpy array: https://www.youtube.com/watch?v=qY2m7Fin_7M"
   ]
  },
  {
   "cell_type": "markdown",
   "id": "63cd0c01",
   "metadata": {},
   "source": [
    "## Apply the convolutional base"
   ]
  },
  {
   "cell_type": "code",
   "execution_count": null,
   "id": "15d4b690",
   "metadata": {},
   "outputs": [
    {
     "name": "stdout",
     "output_type": "stream",
     "text": [
      "Epoch 1/20\n",
      "898/898 [==============================] - 40s 45ms/step - loss: 1.6467 - accuracy: 0.3470 - val_loss: 1.5538 - val_accuracy: 0.4004\n",
      "Epoch 2/20\n",
      "898/898 [==============================] - 45s 50ms/step - loss: 1.4104 - accuracy: 0.4597 - val_loss: 1.3536 - val_accuracy: 0.4817\n",
      "Epoch 3/20\n",
      "898/898 [==============================] - 48s 54ms/step - loss: 1.2963 - accuracy: 0.5039 - val_loss: 1.3011 - val_accuracy: 0.5050\n",
      "Epoch 4/20\n",
      "898/898 [==============================] - 49s 54ms/step - loss: 1.2197 - accuracy: 0.5367 - val_loss: 1.2724 - val_accuracy: 0.5095\n",
      "Epoch 5/20\n",
      "898/898 [==============================] - 44s 49ms/step - loss: 1.1544 - accuracy: 0.5619 - val_loss: 1.2244 - val_accuracy: 0.5316\n",
      "Epoch 6/20\n",
      "898/898 [==============================] - 46s 51ms/step - loss: 1.0976 - accuracy: 0.5872 - val_loss: 1.2374 - val_accuracy: 0.5326\n",
      "Epoch 7/20\n",
      "704/898 [======================>.......] - ETA: 9s - loss: 1.0358 - accuracy: 0.6092"
     ]
    }
   ],
   "source": [
    "# Generate the Convolutional Neural Network (CNN)\n",
    "model = models.Sequential()\n",
    "model.add(layers.Conv2D(48, (3, 3), activation='relu', input_shape=(48, 48, 1)))\n",
    "model.add(layers.MaxPooling2D((2, 2)))\n",
    "model.add(layers.Conv2D(64, (3, 3), activation='relu'))\n",
    "model.add(layers.MaxPooling2D((2, 2)))\n",
    "model.add(layers.Conv2D(64, (3, 3), activation='relu'))\n",
    "\n",
    "model.add(layers.Flatten())\n",
    "model.add(layers.Dense(64, activation='relu'))\n",
    "model.add(layers.Dense(7))\n",
    "\n",
    "model.compile(optimizer='adam',\n",
    "              loss=tf.keras.losses.SparseCategoricalCrossentropy(from_logits=True),\n",
    "              metrics=['accuracy'])\n",
    "\n",
    "history = model.fit(train_data, train_pred, epochs=20, \n",
    "                    validation_data=(test_data, test_pred))\n"
   ]
  },
  {
   "cell_type": "markdown",
   "id": "9a864f9a",
   "metadata": {},
   "source": [
    "## Plot the accuracy"
   ]
  },
  {
   "cell_type": "code",
   "execution_count": 16,
   "id": "117524ca",
   "metadata": {},
   "outputs": [
    {
     "data": {
      "image/png": "[encoded data removed]",
      "text/plain": [
       "<Figure size 432x288 with 1 Axes>"
      ]
     },
     "metadata": {
      "needs_background": "light"
     },
     "output_type": "display_data"
    }
   ],
   "source": [
    "# Graph the CNN's accuracy and validation accuracy\n",
    "plt.plot(history.history['accuracy'], label='accuracy')\n",
    "plt.plot(history.history['val_accuracy'], label='val_accuracy')\n",
    "plt.xlabel('Epoch')\n",
    "plt.ylabel('Accuracy')\n",
    "plt.legend(loc='lower right')\n",
    "plt.show()"
   ]
  },
  {
   "cell_type": "markdown",
   "id": "bad4b90f",
   "metadata": {},
   "source": [
    "## Plot the losses"
   ]
  },
  {
   "cell_type": "code",
   "execution_count": 17,
   "id": "e3f6404c",
   "metadata": {},
   "outputs": [
    {
     "data": {
      "image/png": "[encoded data removed]",
      "text/plain": [
       "<Figure size 432x288 with 1 Axes>"
      ]
     },
     "metadata": {
      "needs_background": "light"
     },
     "output_type": "display_data"
    }
   ],
   "source": [
    "plt.plot(history.history['loss'], label='loss')\n",
    "plt.plot(history.history['val_loss'], label='val_loss')\n",
    "plt.xlabel('Epoch')\n",
    "plt.ylabel('Losses')\n",
    "plt.legend(loc='lower right')\n",
    "plt.show()"
   ]
  }
 ],
 "metadata": {
  "kernelspec": {
   "display_name": "Python 3 (ipykernel)",
   "language": "python",
   "name": "python3"
  },
  "language_info": {
   "codemirror_mode": {
    "name": "ipython",
    "version": 3
   },
   "file_extension": ".py",
   "mimetype": "text/x-python",
   "name": "python",
   "nbconvert_exporter": "python",
   "pygments_lexer": "ipython3",
   "version": "3.9.7"
  }
 },
 "nbformat": 4,
 "nbformat_minor": 5
}
